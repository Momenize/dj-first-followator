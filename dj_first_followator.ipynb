{
 "cells": [
  {
   "cell_type": "markdown",
   "id": "291b1873b172d547",
   "metadata": {},
   "source": [
    "In grammars, there are two major sets for each non-terminal, named first & follow sets. These sets are required for the compiler to be able to recognize the rules of a language. In this notebook we are going to accomplish the first and follow sets of a given grammar.\n",
    "First, we need to read the grammar from a file:\n",
    "Note that for this project, the given grammar must be written in this example's format:\n",
    "<center>\n",
    "    S => AbcaD | BcdC | ab\n",
    "    A => Aa | ε | abB\n",
    "    B => bAC | ε\n",
    "    C => c | ε\n",
    "    D => a | ε\n",
    "</center>"
   ]
  },
  {
   "cell_type": "code",
   "execution_count": 12,
   "id": "50a1be50dab12a56",
   "metadata": {
    "jupyter": {
     "is_executing": true
    }
   },
   "outputs": [],
   "source": [
    "f = open('grammar.txt', 'r')\n",
    "lines = f.readlines()\n",
    "f.close()"
   ]
  },
  {
   "cell_type": "markdown",
   "id": "657e9594967c30b6",
   "metadata": {},
   "source": [
    "Now we define our non-terminal class, which contains:\n",
    "1. symbol\n",
    "2. rules: set of rules a non-terminal can be replaced with.\n",
    "3. first: first set of the non-terminal\n",
    "4. follow: follow set of the non-terminal\n",
    "5. firstdepen: indicates what other non-terminals does a non-terminal's first set depend on. (for example S => ABabC would tell us the first set of S depends on the first set of A)\n",
    "6. followdepen: indicates what other non-terminals does a non-terminal's follow set depend on.\n",
    "Here's the class definition:"
   ]
  },
  {
   "cell_type": "code",
   "execution_count": 13,
   "id": "bd11515c38e2d757",
   "metadata": {},
   "outputs": [],
   "source": [
    "class NonTerminal:\n",
    "    def __init__(self, symbol):\n",
    "        self.symbol = symbol\n",
    "        self.rules = []\n",
    "        self.first = []\n",
    "        self.firstdepen = []\n",
    "        self.followdepen = []\n",
    "        self.follow = []"
   ]
  },
  {
   "cell_type": "markdown",
   "id": "7db804f786a07a0b",
   "metadata": {},
   "source": [
    "As mentioned earlier, each non-terminal contains a set of rules to be replaced with when expanding the language. we have defined these rules to be of type rule. Here is the definition of class Rule:"
   ]
  },
  {
   "cell_type": "code",
   "execution_count": 14,
   "id": "15dffcb2bcb7b1f3",
   "metadata": {},
   "outputs": [],
   "source": [
    "class Rule:\n",
    "    def __init__(self, s: str, nont: NonTerminal):\n",
    "        self.s = s\n",
    "        self.nont = nont\n",
    "        self.nont.rules.append(self)"
   ]
  },
  {
   "cell_type": "markdown",
   "id": "5f7243e4401cadb2",
   "metadata": {},
   "source": [
    "A rule contains a string s, which holds all the terminals/non-terminals of the rule in n string. It also has nont of type NonTerminal, which is the rule's co-related non-terminal.\n",
    "self.nont.rules.append(self) makes sure the non-terminal and the rule are connected right when the rule is instantiated.\n",
    "Now we need to instantiate out non-terminals and rules:"
   ]
  },
  {
   "cell_type": "code",
   "execution_count": 15,
   "id": "f8c1c0fea83e3b4e",
   "metadata": {},
   "outputs": [],
   "source": [
    "nonterminals = []\n",
    "\n",
    "\n",
    "for line in lines:\n",
    "    line = line.replace('\\n', '')\n",
    "    rules = []\n",
    "    symbol, rule = line.split(' => ')\n",
    "    nonterminal = NonTerminal(symbol)\n",
    "    nonterminals.append(nonterminal)\n",
    "    rules.extend(rule.split(' | '))\n",
    "    for rule in rules:\n",
    "        r = Rule(rule, nonterminal)\n",
    "    nonterminals[0].follow.append('$')"
   ]
  },
  {
   "cell_type": "markdown",
   "id": "c63daeb74f5cbcde",
   "metadata": {},
   "source": [
    "Since S is our starting non-terminal, we add $ to its follow set.\n",
    "Now we have to obtain the first set of our non-terminals.\n",
    "There are a few rules in creating the first set of a non-terminal:\n",
    "1. first of a terminal (lowercase letter) is the terminal itself.\n",
    "2. if there's a rule in non-terminal1 that starts with a non-terminal2, all the items in the first set of non-terminal2 are added to the first set of non-terminal1, except for the epsilon. for example in S => ABcD, the first set of S will be extended by adding the items in the first set of A.\n",
    "3. in the previous example, if there's a rule in A where A => ε, then we add the items of the first set of B to S too, since A could be replaced with ε and S could be started with B, and so on.\n",
    "Here's the implementation of the method first which accepts a non-terminal nt as its argument:\n"
   ]
  },
  {
   "cell_type": "code",
   "execution_count": 16,
   "id": "bd262249ef1515e5",
   "metadata": {},
   "outputs": [],
   "source": [
    "def first(nt):\n",
    "    for rule in nt.rules:\n",
    "        if rule.s[0].islower():\n",
    "            nt.first.append(rule.s[0])\n",
    "        elif rule.s[0].isupper():\n",
    "            for c in rule.s:\n",
    "                if c.isupper():\n",
    "                    nt2 = next((n for n in nonterminals if n.symbol == c), None)\n",
    "                    if nt2 not in nt.firstdepen:\n",
    "                        nt.firstdepen.append(nt2)\n",
    "                        nt.firstdepen.extend(nt2.firstdepen)\n",
    "                        d = first(nt2)\n",
    "                        nt.first.extend([x for x in d if x != 'ε'])\n",
    "                        if 'ε' in d:\n",
    "                            if c == rule.s[-1]:\n",
    "                                nt.first.append('ε')\n",
    "                            continue\n",
    "                        else:\n",
    "                            break\n",
    "                    else:\n",
    "                        if 'ε' in nt2.first:\n",
    "                            continue\n",
    "                        else:\n",
    "                            break\n",
    "                else:\n",
    "                    nt.first.append(c)\n",
    "                    break\n",
    "        else:\n",
    "            nt.first.append('ε')\n",
    "    nt.first = list(set(nt.first))\n",
    "    return nt.first"
   ]
  },
  {
   "cell_type": "markdown",
   "id": "93fac7bef48180d9",
   "metadata": {},
   "source": [
    "In this method create almost all non-terminals first sets, except for the ones that are not accessed by the other non-terminals. To make sure that all our terminals have their first sets up and ready, we added this block of code to obtain the first sets of the non-terminals that were not initialized earlier."
   ]
  },
  {
   "cell_type": "code",
   "execution_count": 17,
   "id": "3e82b7a87709cd80",
   "metadata": {},
   "outputs": [],
   "source": [
    "for nt in nonterminals:\n",
    "    if len(nt.first) == 0:\n",
    "        first(nt)"
   ]
  },
  {
   "cell_type": "markdown",
   "id": "c45058f7780139c0",
   "metadata": {},
   "source": [
    "Let's test out method on the example grammar at the beginning of the notebook."
   ]
  },
  {
   "cell_type": "code",
   "execution_count": 18,
   "id": "f3b5842dfaeaa747",
   "metadata": {},
   "outputs": [
    {
     "name": "stdout",
     "output_type": "stream",
     "text": [
      "First(S):  { c, a, b }\n",
      "First(A):  { a, ε }\n",
      "First(B):  { ε, b }\n",
      "First(C):  { c, ε }\n",
      "First(D):  { a, ε }\n"
     ]
    }
   ],
   "source": [
    "for nt in nonterminals:\n",
    "    print(f'First({nt.symbol}): ', '{', end='')\n",
    "    for i in range(len(nt.first)):\n",
    "        print(f' {nt.first[i]}', end='')\n",
    "        if i != len(nt.first) - 1:\n",
    "            print(',', end='')\n",
    "        else:\n",
    "            print(' }')"
   ]
  },
  {
   "cell_type": "markdown",
   "id": "657df91f",
   "metadata": {},
   "source": [
    "Now we need to obtain the follow sets of non-terminals. Here's the implementation of the method follow():"
   ]
  },
  {
   "cell_type": "code",
   "execution_count": 19,
   "id": "82ab2e1e",
   "metadata": {},
   "outputs": [],
   "source": [
    "def follow():\n",
    "    for nt in nonterminals:\n",
    "        for rule in nt.rules:\n",
    "            for j in range(len(rule.s)):\n",
    "                if rule.s[j].isupper():\n",
    "                    nt2 = next(n for n in nonterminals if n.symbol == rule.s[j])\n",
    "                    if j == len(rule.s) - 1:\n",
    "                        nt2.followdepen.append(nt)\n",
    "                        if 'ε' in nt2.first:\n",
    "                            for k in range(j - 1, 0):\n",
    "                                if rule.s[k].isupper():\n",
    "                                    nt4 = next(n for n in nonterminals if n.symbol == rule.s[k])\n",
    "                                    nt4.followdepen.append(nt)\n",
    "                                else: break\n",
    "                        continue\n",
    "                    else:\n",
    "                        for c in range(j + 1, len(rule.s)):\n",
    "                            if rule.s[c].isupper():\n",
    "                                nt3 = next(n for n in nonterminals if n.symbol == rule.s[c])\n",
    "                                nt2.follow.extend([bigh for bigh in nt3.first if bigh != 'ε'])\n",
    "                                if 'ε' in nt3.first:\n",
    "                                    continue\n",
    "                                else:\n",
    "                                    break\n",
    "                            else:\n",
    "                                nt2.follow.append(rule.s[c])\n",
    "                                break\n",
    "    \n",
    "    for nt in nonterminals:\n",
    "        nt.follow = list(set(nt.follow))\n",
    "        if nt.symbol in nt.follow:\n",
    "            nt.follow.remove(nt.symbol)"
   ]
  },
  {
   "cell_type": "markdown",
   "id": "39c334c5",
   "metadata": {},
   "source": [
    "Now we know each non-terminal depends on which other ones for its follow set. let's update the follow sets:"
   ]
  },
  {
   "cell_type": "code",
   "execution_count": 20,
   "id": "3beeecf3",
   "metadata": {},
   "outputs": [],
   "source": [
    "def upd_follow(nt: NonTerminal):\n",
    "    for depen in nt.followdepen:\n",
    "        nt.follow.extend(depen.follow)\n",
    "    revdep = [n for n in nonterminals if nt in n.followdepen]\n",
    "    for dep in revdep:\n",
    "        dep.follow.extend(nt.follow)\n",
    "        dep.follow = list(set(dep.follow))\n",
    "    nt.follow = list(set(nt.follow))"
   ]
  },
  {
   "cell_type": "code",
   "execution_count": 21,
   "id": "604fc958",
   "metadata": {},
   "outputs": [],
   "source": [
    "follow()\n",
    "for nt in nonterminals:\n",
    "    upd_follow(nt)"
   ]
  },
  {
   "cell_type": "code",
   "execution_count": 22,
   "id": "6f9380df",
   "metadata": {},
   "outputs": [
    {
     "name": "stdout",
     "output_type": "stream",
     "text": [
      "Follow(S):  { $ }\n",
      "Follow(A):  { c, a, b }\n",
      "Follow(B):  { c, a, b }\n",
      "Follow(C):  { c, a, $, b }\n",
      "Follow(D):  { $ }\n"
     ]
    }
   ],
   "source": [
    "for nt in nonterminals:\n",
    "    print(f'Follow({nt.symbol}): ', '{', end='')\n",
    "    for i in range(len(nt.follow)):\n",
    "        print(f' {nt.follow[i]}', end='')\n",
    "        if i != len(nt.follow) - 1:\n",
    "            print(',', end='')\n",
    "        else:\n",
    "            print(' }')"
   ]
  }
 ],
 "metadata": {
  "kernelspec": {
   "display_name": "python",
   "language": "python",
   "name": "python3"
  },
  "language_info": {
   "codemirror_mode": {
    "name": "ipython",
    "version": 3
   },
   "file_extension": ".py",
   "mimetype": "text/x-python",
   "name": "python",
   "nbconvert_exporter": "python",
   "pygments_lexer": "ipython3",
   "version": "3.12.3"
  }
 },
 "nbformat": 5,
 "nbformat_minor": 9
}
